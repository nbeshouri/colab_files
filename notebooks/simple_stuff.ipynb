{
 "cells": [
  {
   "cell_type": "code",
   "execution_count": 1,
   "metadata": {
    "colab": {
     "base_uri": "https://localhost:8080/",
     "height": 71
    },
    "id": "5Tbs-9vPJAoc",
    "outputId": "9578be61-ade9-4855-ea65-96af22a3b65b"
   },
   "outputs": [
    {
     "data": {
      "text/html": [
       "<style>.container { width:100% !important; }</style>"
      ],
      "text/plain": [
       "<IPython.core.display.HTML object>"
      ]
     },
     "metadata": {},
     "output_type": "display_data"
    }
   ],
   "source": [
    "import os\n",
    "import numpy as np\n",
    "import pandas as pd\n",
    "import matplotlib as mpl \n",
    "from matplotlib import pyplot as plt\n",
    "import seaborn as sns; sns.set()\n",
    "\n",
    "pd.set_option('display.max_rows', 1000)\n",
    "pd.set_option('display.max_columns', 100)\n",
    "pd.set_option('max_colwidth', -1)\n",
    "\n",
    "from IPython.core.display import display, HTML\n",
    "display(HTML(\"<style>.container { width:100% !important; }</style>\"))\n",
    "\n",
    "mpl.rcParams['figure.dpi'] = 100\n",
    "%matplotlib inline"
   ]
  },
  {
   "cell_type": "code",
   "execution_count": 2,
   "metadata": {
    "id": "8cBPmWbBJAod"
   },
   "outputs": [],
   "source": [
    "from sklearn.naive_bayes import MultinomialNB\n",
    "from sklearn.feature_extraction.text import TfidfVectorizer\n",
    "from sklearn.pipeline import make_pipeline\n",
    "from sklearn.metrics import confusion_matrix, f1_score, classification_report, roc_auc_score, roc_curve, auc\n",
    "from sklearn.model_selection import GridSearchCV, cross_val_score\n",
    "from joblib import parallel_backend"
   ]
  },
  {
   "cell_type": "code",
   "execution_count": 3,
   "metadata": {
    "id": "daDk8hiHJAod"
   },
   "outputs": [],
   "source": [
    "def under_sample(data_df, class_col, random_state=42):\n",
    "    value_counts = data_df[class_col].value_counts()\n",
    "    count = value_counts.min()\n",
    "    df_parts = []\n",
    "    for class_i in value_counts.index:\n",
    "        df_parts.append(data_df[data_df[class_col] == class_i].sample(\n",
    "            count, random_state=random_state))\n",
    "    sample_df = pd.concat(df_parts, axis=0)\n",
    "    return sample_df.sample(sample_df.shape[0], random_state=42)\n",
    "\n",
    "\n",
    "def show_report(y_true, y_pred, target_names):    \n",
    "    fig, ax = plt.subplots(1, figsize=(5, 5))\n",
    "\n",
    "    mat = confusion_matrix(y_true, y_pred)\n",
    "    sns.heatmap(mat, square=True, annot=True, cbar=False, ax=ax, fmt='g') \n",
    "    plt.xlabel('predicted value')\n",
    "    plt.ylabel('true value');\n",
    "\n",
    "    print(classification_report(y_true, y_pred, target_names=target_names))\n",
    "\n",
    "\n",
    "def show_auc(y_true, y_pred_proba):    \n",
    "    \n",
    "    # roc_auc_score(y_true, y_pred_proba)\n",
    "\n",
    "    fpr, tpr, thresholds = roc_curve(\n",
    "        y_true,\n",
    "        y_pred_proba,\n",
    "        pos_label=1\n",
    "    )\n",
    "    auc_val = auc(fpr, tpr)\n",
    "\n",
    "    fig, ax = plt.subplots(figsize=(8, 8))\n",
    "    plt.plot([0, 1], [0, 1], 'k--')\n",
    "\n",
    "    ax.plot(fpr, tpr, label=f'AUC: {auc_val:.2f}')\n",
    "    ax.legend(loc=4);"
   ]
  },
  {
   "cell_type": "code",
   "execution_count": 4,
   "metadata": {
    "id": "xPbMT9TbJAod"
   },
   "outputs": [],
   "source": [
    "DATA_DIR_PATH = '../classification/data/'\n",
    "\n",
    "train_df = pd.read_csv(os.path.join(DATA_DIR_PATH, 'datasets', 'wikipedia_comments', 'train.csv.zip'))\n",
    "test_df = pd.read_csv(os.path.join(DATA_DIR_PATH, 'datasets', 'wikipedia_comments', 'test.csv.zip'))\n",
    "test_labels_df = pd.read_csv(os.path.join(DATA_DIR_PATH, 'datasets', 'wikipedia_comments', 'test_labels.csv.zip'))\n",
    "test_df = pd.merge(test_df, test_labels_df)\n",
    "test_df = test_df.query('toxic != -1')\n",
    "test_undersampled_df = under_sample(test_df, 'toxic')"
   ]
  },
  {
   "cell_type": "code",
   "execution_count": 5,
   "metadata": {
    "colab": {
     "base_uri": "https://localhost:8080/"
    },
    "id": "wJ_O8zymJAod",
    "outputId": "06539e49-13eb-4045-c287-9289e766d803"
   },
   "outputs": [
    {
     "data": {
      "text/plain": [
       "0    144277\n",
       "1    15294 \n",
       "Name: toxic, dtype: int64"
      ]
     },
     "execution_count": 5,
     "metadata": {},
     "output_type": "execute_result"
    }
   ],
   "source": [
    "train_df.toxic.value_counts()"
   ]
  },
  {
   "cell_type": "code",
   "execution_count": 6,
   "metadata": {
    "colab": {
     "base_uri": "https://localhost:8080/"
    },
    "id": "zZT4x30GJAod",
    "outputId": "c71d5a0e-7fef-46f7-c402-d3a414e64534"
   },
   "outputs": [
    {
     "data": {
      "text/plain": [
       "0    57888\n",
       "1    6090 \n",
       "Name: toxic, dtype: int64"
      ]
     },
     "execution_count": 6,
     "metadata": {},
     "output_type": "execute_result"
    }
   ],
   "source": [
    "test_df.toxic.value_counts()"
   ]
  },
  {
   "cell_type": "code",
   "execution_count": 7,
   "metadata": {
    "colab": {
     "base_uri": "https://localhost:8080/",
     "height": 306
    },
    "id": "5IXFfapfJAod",
    "outputId": "783da999-5be3-4aff-d446-ed7a4980d8bc"
   },
   "outputs": [
    {
     "data": {
      "text/html": [
       "<div>\n",
       "<style scoped>\n",
       "    .dataframe tbody tr th:only-of-type {\n",
       "        vertical-align: middle;\n",
       "    }\n",
       "\n",
       "    .dataframe tbody tr th {\n",
       "        vertical-align: top;\n",
       "    }\n",
       "\n",
       "    .dataframe thead th {\n",
       "        text-align: right;\n",
       "    }\n",
       "</style>\n",
       "<table border=\"1\" class=\"dataframe\">\n",
       "  <thead>\n",
       "    <tr style=\"text-align: right;\">\n",
       "      <th></th>\n",
       "      <th>id</th>\n",
       "      <th>comment_text</th>\n",
       "      <th>toxic</th>\n",
       "      <th>severe_toxic</th>\n",
       "      <th>obscene</th>\n",
       "      <th>threat</th>\n",
       "      <th>insult</th>\n",
       "      <th>identity_hate</th>\n",
       "    </tr>\n",
       "  </thead>\n",
       "  <tbody>\n",
       "    <tr>\n",
       "      <th>0</th>\n",
       "      <td>0000997932d777bf</td>\n",
       "      <td>Explanation\\nWhy the edits made under my username Hardcore Metallica Fan were reverted? They weren't vandalisms, just closure on some GAs after I voted at New York Dolls FAC. And please don't remove the template from the talk page since I'm retired now.89.205.38.27</td>\n",
       "      <td>0</td>\n",
       "      <td>0</td>\n",
       "      <td>0</td>\n",
       "      <td>0</td>\n",
       "      <td>0</td>\n",
       "      <td>0</td>\n",
       "    </tr>\n",
       "    <tr>\n",
       "      <th>1</th>\n",
       "      <td>000103f0d9cfb60f</td>\n",
       "      <td>D'aww! He matches this background colour I'm seemingly stuck with. Thanks.  (talk) 21:51, January 11, 2016 (UTC)</td>\n",
       "      <td>0</td>\n",
       "      <td>0</td>\n",
       "      <td>0</td>\n",
       "      <td>0</td>\n",
       "      <td>0</td>\n",
       "      <td>0</td>\n",
       "    </tr>\n",
       "    <tr>\n",
       "      <th>2</th>\n",
       "      <td>000113f07ec002fd</td>\n",
       "      <td>Hey man, I'm really not trying to edit war. It's just that this guy is constantly removing relevant information and talking to me through edits instead of my talk page. He seems to care more about the formatting than the actual info.</td>\n",
       "      <td>0</td>\n",
       "      <td>0</td>\n",
       "      <td>0</td>\n",
       "      <td>0</td>\n",
       "      <td>0</td>\n",
       "      <td>0</td>\n",
       "    </tr>\n",
       "    <tr>\n",
       "      <th>3</th>\n",
       "      <td>0001b41b1c6bb37e</td>\n",
       "      <td>\"\\nMore\\nI can't make any real suggestions on improvement - I wondered if the section statistics should be later on, or a subsection of \"\"types of accidents\"\"  -I think the references may need tidying so that they are all in the exact same format ie date format etc. I can do that later on, if no-one else does first - if you have any preferences for formatting style on references or want to do it yourself please let me know.\\n\\nThere appears to be a backlog on articles for review so I guess there may be a delay until a reviewer turns up. It's listed in the relevant form eg Wikipedia:Good_article_nominations#Transport  \"</td>\n",
       "      <td>0</td>\n",
       "      <td>0</td>\n",
       "      <td>0</td>\n",
       "      <td>0</td>\n",
       "      <td>0</td>\n",
       "      <td>0</td>\n",
       "    </tr>\n",
       "    <tr>\n",
       "      <th>4</th>\n",
       "      <td>0001d958c54c6e35</td>\n",
       "      <td>You, sir, are my hero. Any chance you remember what page that's on?</td>\n",
       "      <td>0</td>\n",
       "      <td>0</td>\n",
       "      <td>0</td>\n",
       "      <td>0</td>\n",
       "      <td>0</td>\n",
       "      <td>0</td>\n",
       "    </tr>\n",
       "  </tbody>\n",
       "</table>\n",
       "</div>"
      ],
      "text/plain": [
       "                 id  \\\n",
       "0  0000997932d777bf   \n",
       "1  000103f0d9cfb60f   \n",
       "2  000113f07ec002fd   \n",
       "3  0001b41b1c6bb37e   \n",
       "4  0001d958c54c6e35   \n",
       "\n",
       "                                                                                                                                                                                                                                                                                                                                                                                                                                                                                                                                                                                                                                         comment_text  \\\n",
       "0  Explanation\\nWhy the edits made under my username Hardcore Metallica Fan were reverted? They weren't vandalisms, just closure on some GAs after I voted at New York Dolls FAC. And please don't remove the template from the talk page since I'm retired now.89.205.38.27                                                                                                                                                                                                                                                                                                                                                                            \n",
       "1  D'aww! He matches this background colour I'm seemingly stuck with. Thanks.  (talk) 21:51, January 11, 2016 (UTC)                                                                                                                                                                                                                                                                                                                                                                                                                                                                                                                                     \n",
       "2  Hey man, I'm really not trying to edit war. It's just that this guy is constantly removing relevant information and talking to me through edits instead of my talk page. He seems to care more about the formatting than the actual info.                                                                                                                                                                                                                                                                                                                                                                                                            \n",
       "3  \"\\nMore\\nI can't make any real suggestions on improvement - I wondered if the section statistics should be later on, or a subsection of \"\"types of accidents\"\"  -I think the references may need tidying so that they are all in the exact same format ie date format etc. I can do that later on, if no-one else does first - if you have any preferences for formatting style on references or want to do it yourself please let me know.\\n\\nThere appears to be a backlog on articles for review so I guess there may be a delay until a reviewer turns up. It's listed in the relevant form eg Wikipedia:Good_article_nominations#Transport  \"   \n",
       "4  You, sir, are my hero. Any chance you remember what page that's on?                                                                                                                                                                                                                                                                                                                                                                                                                                                                                                                                                                                  \n",
       "\n",
       "   toxic  severe_toxic  obscene  threat  insult  identity_hate  \n",
       "0  0      0             0        0       0       0              \n",
       "1  0      0             0        0       0       0              \n",
       "2  0      0             0        0       0       0              \n",
       "3  0      0             0        0       0       0              \n",
       "4  0      0             0        0       0       0              "
      ]
     },
     "execution_count": 7,
     "metadata": {},
     "output_type": "execute_result"
    }
   ],
   "source": [
    "train_df.head()"
   ]
  },
  {
   "cell_type": "markdown",
   "metadata": {
    "id": "2dmgb5CSJAod"
   },
   "source": [
    "---"
   ]
  },
  {
   "cell_type": "markdown",
   "metadata": {
    "id": "HwvcjQlQJAoe"
   },
   "source": [
    "## Default model"
   ]
  },
  {
   "cell_type": "code",
   "execution_count": 8,
   "metadata": {
    "colab": {
     "base_uri": "https://localhost:8080/",
     "height": 960
    },
    "id": "Gc3AudwcPxyJ",
    "outputId": "75ff656e-6c3f-487c-f688-68adc5254d29"
   },
   "outputs": [
    {
     "name": "stdout",
     "output_type": "stream",
     "text": [
      "              precision    recall  f1-score   support\n",
      "\n",
      "   Non-Toxic       0.92      1.00      0.96     57888\n",
      "       Toxic       0.81      0.18      0.29      6090\n",
      "\n",
      "    accuracy                           0.92     63978\n",
      "   macro avg       0.87      0.59      0.62     63978\n",
      "weighted avg       0.91      0.92      0.89     63978\n",
      "\n"
     ]
    },
    {
     "data": {
      "image/png": "[encoded data removed]",
      "text/plain": [
       "<Figure size 360x360 with 1 Axes>"
      ]
     },
     "metadata": {
      "needs_background": "light"
     },
     "output_type": "display_data"
    },
    {
     "data": {
      "image/png": "[encoded data removed]",
      "text/plain": [
       "<Figure size 576x576 with 1 Axes>"
      ]
     },
     "metadata": {
      "needs_background": "light"
     },
     "output_type": "display_data"
    }
   ],
   "source": [
    "model = make_pipeline(TfidfVectorizer(), MultinomialNB())\n",
    "model.fit(train_df['comment_text'], train_df['toxic'])\n",
    "show_report(test_df['toxic'], model.predict(test_df['comment_text']), ['Non-Toxic', 'Toxic'])\n",
    "show_auc(test_df['toxic'], model.predict_proba(test_df['comment_text'])[:, 1])"
   ]
  },
  {
   "cell_type": "code",
   "execution_count": 9,
   "metadata": {
    "colab": {
     "base_uri": "https://localhost:8080/",
     "height": 485
    },
    "id": "9lHiq_3ldlfG",
    "outputId": "53f37a97-6fed-445e-dfda-1c5c95c63dcd"
   },
   "outputs": [
    {
     "data": {
      "image/png": "[encoded data removed]",
      "text/plain": [
       "<Figure size 576x576 with 1 Axes>"
      ]
     },
     "metadata": {
      "needs_background": "light"
     },
     "output_type": "display_data"
    }
   ],
   "source": [
    "show_auc(test_undersampled_df['toxic'], model.predict_proba(test_undersampled_df['comment_text'])[:, 1])"
   ]
  },
  {
   "cell_type": "code",
   "execution_count": 10,
   "metadata": {
    "colab": {
     "base_uri": "https://localhost:8080/",
     "height": 492
    },
    "id": "RGTtdRj1JAoe",
    "outputId": "ecf8eacd-505b-42a3-c913-2704e844289b"
   },
   "outputs": [
    {
     "name": "stdout",
     "output_type": "stream",
     "text": [
      "              precision    recall  f1-score   support\n",
      "\n",
      "   Non-Toxic       0.55      0.99      0.71      6090\n",
      "       Toxic       0.97      0.18      0.30      6090\n",
      "\n",
      "    accuracy                           0.59     12180\n",
      "   macro avg       0.76      0.59      0.50     12180\n",
      "weighted avg       0.76      0.59      0.50     12180\n",
      "\n"
     ]
    },
    {
     "data": {
      "image/png": "[encoded data removed]",
      "text/plain": [
       "<Figure size 360x360 with 1 Axes>"
      ]
     },
     "metadata": {
      "needs_background": "light"
     },
     "output_type": "display_data"
    }
   ],
   "source": [
    "show_report(test_undersampled_df['toxic'], model.predict(test_undersampled_df['comment_text']), ['Non-Toxic', 'Toxic'])"
   ]
  },
  {
   "cell_type": "markdown",
   "metadata": {
    "id": "PqCEzjE_JAof"
   },
   "source": [
    "## No prior"
   ]
  },
  {
   "cell_type": "code",
   "execution_count": 11,
   "metadata": {
    "colab": {
     "base_uri": "https://localhost:8080/",
     "height": 960
    },
    "id": "wkGe9SSzJAof",
    "outputId": "687e9945-4b29-4518-de5e-f3a703e41adc"
   },
   "outputs": [
    {
     "name": "stdout",
     "output_type": "stream",
     "text": [
      "              precision    recall  f1-score   support\n",
      "\n",
      "   Non-Toxic       0.98      0.87      0.92     57888\n",
      "       Toxic       0.40      0.83      0.54      6090\n",
      "\n",
      "    accuracy                           0.86     63978\n",
      "   macro avg       0.69      0.85      0.73     63978\n",
      "weighted avg       0.92      0.86      0.88     63978\n",
      "\n"
     ]
    },
    {
     "data": {
      "image/png": "[encoded data removed]",
      "text/plain": [
       "<Figure size 360x360 with 1 Axes>"
      ]
     },
     "metadata": {
      "needs_background": "light"
     },
     "output_type": "display_data"
    },
    {
     "data": {
      "image/png": "[encoded data removed]",
      "text/plain": [
       "<Figure size 576x576 with 1 Axes>"
      ]
     },
     "metadata": {
      "needs_background": "light"
     },
     "output_type": "display_data"
    }
   ],
   "source": [
    "model = make_pipeline(TfidfVectorizer(), MultinomialNB(alpha=0.1, class_prior=None, fit_prior=False))\n",
    "model.fit(train_df['comment_text'], train_df['toxic'])\n",
    "show_report(test_df['toxic'], model.predict(test_df['comment_text']), ['Non-Toxic', 'Toxic'])\n",
    "show_auc(test_df['toxic'], model.predict_proba(test_df['comment_text'])[:, 1])"
   ]
  },
  {
   "cell_type": "code",
   "execution_count": 12,
   "metadata": {
    "colab": {
     "base_uri": "https://localhost:8080/"
    },
    "id": "qZttxJP8JAog",
    "outputId": "a6b3186a-ee3a-449d-c1c5-3a7df161afd5"
   },
   "outputs": [
    {
     "name": "stdout",
     "output_type": "stream",
     "text": [
      "CPU times: user 58.1 s, sys: 37 s, total: 1min 35s\n",
      "Wall time: 37min 6s\n"
     ]
    },
    {
     "data": {
      "text/plain": [
       "GridSearchCV(cv=5, error_score=nan,\n",
       "             estimator=Pipeline(memory=None,\n",
       "                                steps=[('tfidfvectorizer',\n",
       "                                        TfidfVectorizer(analyzer='word',\n",
       "                                                        binary=False,\n",
       "                                                        decode_error='strict',\n",
       "                                                        dtype=<class 'numpy.float64'>,\n",
       "                                                        encoding='utf-8',\n",
       "                                                        input='content',\n",
       "                                                        lowercase=True,\n",
       "                                                        max_df=1.0,\n",
       "                                                        max_features=None,\n",
       "                                                        min_df=1,\n",
       "                                                        ngram_range=(1, 1),\n",
       "                                                        norm='l2',\n",
       "                                                        preprocessor=None,\n",
       "                                                        smooth_idf=True,\n",
       "                                                        stop_words=None...\n",
       "                                                      fit_prior=True))],\n",
       "                                verbose=False),\n",
       "             iid='deprecated', n_jobs=6,\n",
       "             param_grid={'multinomialnb__alpha': [0.1, 0.5, 1],\n",
       "                         'multinomialnb__fit_prior': [True, False],\n",
       "                         'tfidfvectorizer__max_df': [0.1, 0.5, 1],\n",
       "                         'tfidfvectorizer__ngram_range': [(1, 1), (1, 2)],\n",
       "                         'tfidfvectorizer__stop_words': [None, 'english']},\n",
       "             pre_dispatch='2*n_jobs', refit=True, return_train_score=False,\n",
       "             scoring='roc_auc', verbose=0)"
      ]
     },
     "execution_count": 12,
     "metadata": {},
     "output_type": "execute_result"
    }
   ],
   "source": [
    "%%time\n",
    "param_grid = {\n",
    "    'tfidfvectorizer__max_df': [0.1, 0.5, 1],\n",
    "    'tfidfvectorizer__ngram_range': [(1, 1), (1, 2)], \n",
    "    'tfidfvectorizer__stop_words': [None, 'english'],\n",
    "    'multinomialnb__alpha': [0.1, 0.5, 1],\n",
    "    'multinomialnb__fit_prior': [True, False]\n",
    "}\n",
    "\n",
    "model = make_pipeline(TfidfVectorizer(), MultinomialNB())\n",
    "\n",
    "# with parallel_backend('loky'):\n",
    "grid = GridSearchCV(estimator=model, param_grid=param_grid, scoring='roc_auc', n_jobs=6, cv=5)\n",
    "grid.fit(train_df['comment_text'], train_df['toxic'])"
   ]
  },
  {
   "cell_type": "code",
   "execution_count": null,
   "metadata": {
    "id": "5H1354sEJAog"
   },
   "outputs": [],
   "source": [
    "from sklearn.metrics import f1_score, accuracy_score, precision_score, recall_score"
   ]
  },
  {
   "cell_type": "code",
   "execution_count": null,
   "metadata": {
    "id": "440B5ypHJAog",
    "outputId": "0e4ee009-4dcb-4909-86f5-412f37d17dc7"
   },
   "outputs": [
    {
     "data": {
      "text/html": [
       "\n",
       "                Logging results to <a href=\"https://wandb.com\" target=\"_blank\">Weights & Biases</a> <a href=\"https://docs.wandb.com/integrations/jupyter.html\" target=\"_blank\">(Documentation)</a>.<br/>\n",
       "                Project page: <a href=\"https://app.wandb.ai/nbeshouri/delete_me\" target=\"_blank\">https://app.wandb.ai/nbeshouri/delete_me</a><br/>\n",
       "                Run page: <a href=\"https://app.wandb.ai/nbeshouri/delete_me/runs/uejirhx3\" target=\"_blank\">https://app.wandb.ai/nbeshouri/delete_me/runs/uejirhx3</a><br/>\n",
       "            "
      ],
      "text/plain": [
       "<IPython.core.display.HTML object>"
      ]
     },
     "metadata": {
      "tags": []
     },
     "output_type": "display_data"
    }
   ],
   "source": [
    "import wandb\n",
    "\n",
    "hyperparameter_defaults = dict(\n",
    "    dropout = 0.5,\n",
    "    channels_one = 16,\n",
    "    channels_two = 32,\n",
    "    batch_size = 100,\n",
    "    learning_rate = 0.001,\n",
    "    epochs = 2,\n",
    "    )\n",
    "\n",
    "wandb.init(config=hyperparameter_defaults, project=\"delete_me\")\n",
    "config = wandb.config"
   ]
  },
  {
   "cell_type": "code",
   "execution_count": null,
   "metadata": {
    "id": "d3_Vq1XOJAog",
    "outputId": "9574e62a-aede-45d6-d639-dd2d5699f691"
   },
   "outputs": [
    {
     "name": "stdout",
     "output_type": "stream",
     "text": [
      "{'dropout': 0.5, 'channels_one': 16, 'channels_two': 32, 'batch_size': 100, 'learning_rate': 0.001, 'epochs': 2}\n"
     ]
    }
   ],
   "source": [
    "print(dict(config))"
   ]
  },
  {
   "cell_type": "code",
   "execution_count": null,
   "metadata": {
    "id": "f0fnjhHWJAog",
    "outputId": "0d941756-bad4-4d58-d80e-9c6db1d13e8d"
   },
   "outputs": [
    {
     "data": {
      "text/plain": [
       "(array([0.83669259, 0.86086069]),\n",
       " array([0.86568144, 0.83103448]),\n",
       " array([0.8509402 , 0.84568469]),\n",
       " array([6090, 6090]))"
      ]
     },
     "execution_count": 62,
     "metadata": {
      "tags": []
     },
     "output_type": "execute_result"
    }
   ],
   "source": [
    "precision_recall_fscore_support(y_true, y_pred)"
   ]
  },
  {
   "cell_type": "code",
   "execution_count": null,
   "metadata": {
    "id": "f4zLg3dxJAog",
    "outputId": "28d02993-e840-4945-9ba2-24b41c626f26"
   },
   "outputs": [
    {
     "data": {
      "text/plain": [
       "0.8483579638752052"
      ]
     },
     "execution_count": 68,
     "metadata": {
      "tags": []
     },
     "output_type": "execute_result"
    }
   ],
   "source": [
    "accuracy_score(y_true, y_pred)"
   ]
  },
  {
   "cell_type": "code",
   "execution_count": null,
   "metadata": {
    "id": "4oG-jo9HJAog",
    "outputId": "481e69b4-58b0-4ef8-93eb-92f033650359",
    "scrolled": true
   },
   "outputs": [
    {
     "data": {
      "text/plain": [
       "array([0.9186276 , 0.91840572, 0.91856239, 0.91887573, 0.91821771])"
      ]
     },
     "execution_count": 57,
     "metadata": {
      "tags": []
     },
     "output_type": "execute_result"
    }
   ],
   "source": [
    "cross_val_score(model, X=train_df['comment_text'], y=train_df['toxic'])"
   ]
  },
  {
   "cell_type": "code",
   "execution_count": null,
   "metadata": {
    "id": "vyXzxYFVJAog",
    "outputId": "a0db4431-49ab-494d-9df6-efbc0985f300"
   },
   "outputs": [
    {
     "data": {
      "text/plain": [
       "['grid.pickle']"
      ]
     },
     "execution_count": 48,
     "metadata": {
      "tags": []
     },
     "output_type": "execute_result"
    }
   ],
   "source": [
    "import joblib\n",
    "\n",
    "joblib.dump(grid, 'grid.pickle')"
   ]
  },
  {
   "cell_type": "code",
   "execution_count": null,
   "metadata": {
    "id": "bnOTm8kKJAoh",
    "outputId": "f0e3e44a-edb2-42eb-af3b-8db5490c7fd8"
   },
   "outputs": [
    {
     "data": {
      "text/plain": [
       "Pipeline(memory=None,\n",
       "         steps=[('tfidfvectorizer',\n",
       "                 TfidfVectorizer(analyzer='word', binary=False,\n",
       "                                 decode_error='strict',\n",
       "                                 dtype=<class 'numpy.float64'>,\n",
       "                                 encoding='utf-8', input='content',\n",
       "                                 lowercase=True, max_df=0.5, max_features=None,\n",
       "                                 min_df=1, ngram_range=(1, 1), norm='l2',\n",
       "                                 preprocessor=None, smooth_idf=True,\n",
       "                                 stop_words=None, strip_accents=None,\n",
       "                                 sublinear_tf=False,\n",
       "                                 token_pattern='(?u)\\\\b\\\\w\\\\w+\\\\b',\n",
       "                                 tokenizer=None, use_idf=True,\n",
       "                                 vocabulary=None)),\n",
       "                ('multinomialnb',\n",
       "                 MultinomialNB(alpha=0.1, class_prior=None, fit_prior=False))],\n",
       "         verbose=False)"
      ]
     },
     "execution_count": 49,
     "metadata": {
      "tags": []
     },
     "output_type": "execute_result"
    }
   ],
   "source": [
    "grid.best_estimator_"
   ]
  },
  {
   "cell_type": "code",
   "execution_count": null,
   "metadata": {
    "id": "zTUn5qZFJAoh",
    "outputId": "84d8776b-5d11-4988-c739-f805b5950961"
   },
   "outputs": [
    {
     "data": {
      "image/png": "[encoded data removed]",
      "text/plain": [
       "<Figure size 720x720 with 1 Axes>"
      ]
     },
     "metadata": {
      "needs_background": "light",
      "tags": []
     },
     "output_type": "display_data"
    }
   ],
   "source": [
    "y_true = test_df['toxic']\n",
    "y_pred = grid.best_estimator_.predict(test_df['comment_text'])\n",
    "\n",
    "fig, ax = plt.subplots(1, figsize=(10, 10))\n",
    "\n",
    "mat = confusion_matrix(y_true, y_pred)\n",
    "sns.heatmap(mat, square=True, annot=True, cbar=False, ax=ax, fmt='g') \n",
    "plt.xlabel('predicted value')\n",
    "plt.ylabel('true value');"
   ]
  },
  {
   "cell_type": "code",
   "execution_count": null,
   "metadata": {
    "id": "do7aax2HJAoh",
    "outputId": "e856a9df-06f3-4da4-cc19-82283c27d1ce"
   },
   "outputs": [
    {
     "name": "stdout",
     "output_type": "stream",
     "text": [
      "              precision    recall  f1-score   support\n",
      "\n",
      "   Non-Toxic       0.84      0.87      0.85      6090\n",
      "       Toxic       0.86      0.83      0.85      6090\n",
      "\n",
      "    accuracy                           0.85     12180\n",
      "   macro avg       0.85      0.85      0.85     12180\n",
      "weighted avg       0.85      0.85      0.85     12180\n",
      "\n"
     ]
    }
   ],
   "source": [
    "from sklearn.metrics import classification_report\n",
    "\n",
    "target_names = ['Non-Toxic', 'Toxic']\n",
    "\n",
    "print(classification_report(y_true, y_pred, target_names=target_names))"
   ]
  },
  {
   "cell_type": "code",
   "execution_count": null,
   "metadata": {
    "id": "Y6mIYNllJAoh"
   },
   "outputs": [],
   "source": [
    "y_true = test_df['toxic']\n",
    "y_pred = grid.best_estimator_.predict(test_df['comment_text'])\n",
    "\n",
    "fig, ax = plt.subplots(1, figsize=(10, 10))\n",
    "\n",
    "mat = confusion_matrix(y_true, y_pred)\n",
    "sns.heatmap(mat, square=True, annot=True, cbar=False, ax=ax, fmt='g') \n",
    "plt.xlabel('predicted value')\n",
    "plt.ylabel('true value');"
   ]
  },
  {
   "cell_type": "code",
   "execution_count": null,
   "metadata": {
    "id": "g6E8Pfw_JAoh",
    "outputId": "6a745cdf-8e9b-4ca9-f1d2-771490ac2044"
   },
   "outputs": [
    {
     "data": {
      "text/plain": [
       "0.8483579638752052"
      ]
     },
     "execution_count": 53,
     "metadata": {
      "tags": []
     },
     "output_type": "execute_result"
    }
   ],
   "source": [
    "grid.best_estimator_.score(test_df['comment_text'], test_df['toxic']) "
   ]
  }
 ],
 "metadata": {
  "colab": {
   "name": "simple_stuff.ipynb",
   "provenance": [],
   "toc_visible": true
  },
  "kernelspec": {
   "display_name": "Python [conda env:transformers]",
   "language": "python",
   "name": "conda-env-transformers-py"
  },
  "language_info": {
   "codemirror_mode": {
    "name": "ipython",
    "version": 3
   },
   "file_extension": ".py",
   "mimetype": "text/x-python",
   "name": "python",
   "nbconvert_exporter": "python",
   "pygments_lexer": "ipython3",
   "version": "3.7.5"
  }
 },
 "nbformat": 4,
 "nbformat_minor": 1
}
